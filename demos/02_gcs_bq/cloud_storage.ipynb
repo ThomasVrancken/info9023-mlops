{
 "cells": [
  {
   "cell_type": "code",
   "execution_count": 2,
   "metadata": {},
   "outputs": [
    {
     "name": "stdout",
     "output_type": "stream",
     "text": [
      "Requirement already satisfied: google-cloud-storage in /Users/thomasvrancken/Documents/project/ulg/github/info9023-mlops-main/.venv/lib/python3.12/site-packages (2.19.0)\n",
      "Requirement already satisfied: google-auth<3.0dev,>=2.26.1 in /Users/thomasvrancken/Documents/project/ulg/github/info9023-mlops-main/.venv/lib/python3.12/site-packages (from google-cloud-storage) (2.38.0)\n",
      "Requirement already satisfied: google-api-core<3.0.0dev,>=2.15.0 in /Users/thomasvrancken/Documents/project/ulg/github/info9023-mlops-main/.venv/lib/python3.12/site-packages (from google-cloud-storage) (2.24.1)\n",
      "Requirement already satisfied: google-cloud-core<3.0dev,>=2.3.0 in /Users/thomasvrancken/Documents/project/ulg/github/info9023-mlops-main/.venv/lib/python3.12/site-packages (from google-cloud-storage) (2.4.1)\n",
      "Requirement already satisfied: google-resumable-media>=2.7.2 in /Users/thomasvrancken/Documents/project/ulg/github/info9023-mlops-main/.venv/lib/python3.12/site-packages (from google-cloud-storage) (2.7.2)\n",
      "Requirement already satisfied: requests<3.0.0dev,>=2.18.0 in /Users/thomasvrancken/Documents/project/ulg/github/info9023-mlops-main/.venv/lib/python3.12/site-packages (from google-cloud-storage) (2.32.3)\n",
      "Requirement already satisfied: google-crc32c<2.0dev,>=1.0 in /Users/thomasvrancken/Documents/project/ulg/github/info9023-mlops-main/.venv/lib/python3.12/site-packages (from google-cloud-storage) (1.6.0)\n",
      "Requirement already satisfied: googleapis-common-protos<2.0.dev0,>=1.56.2 in /Users/thomasvrancken/Documents/project/ulg/github/info9023-mlops-main/.venv/lib/python3.12/site-packages (from google-api-core<3.0.0dev,>=2.15.0->google-cloud-storage) (1.66.0)\n",
      "Requirement already satisfied: protobuf!=3.20.0,!=3.20.1,!=4.21.0,!=4.21.1,!=4.21.2,!=4.21.3,!=4.21.4,!=4.21.5,<6.0.0.dev0,>=3.19.5 in /Users/thomasvrancken/Documents/project/ulg/github/info9023-mlops-main/.venv/lib/python3.12/site-packages (from google-api-core<3.0.0dev,>=2.15.0->google-cloud-storage) (5.29.3)\n",
      "Requirement already satisfied: proto-plus<2.0.0dev,>=1.22.3 in /Users/thomasvrancken/Documents/project/ulg/github/info9023-mlops-main/.venv/lib/python3.12/site-packages (from google-api-core<3.0.0dev,>=2.15.0->google-cloud-storage) (1.26.0)\n",
      "Requirement already satisfied: cachetools<6.0,>=2.0.0 in /Users/thomasvrancken/Documents/project/ulg/github/info9023-mlops-main/.venv/lib/python3.12/site-packages (from google-auth<3.0dev,>=2.26.1->google-cloud-storage) (5.5.1)\n",
      "Requirement already satisfied: pyasn1-modules>=0.2.1 in /Users/thomasvrancken/Documents/project/ulg/github/info9023-mlops-main/.venv/lib/python3.12/site-packages (from google-auth<3.0dev,>=2.26.1->google-cloud-storage) (0.4.1)\n",
      "Requirement already satisfied: rsa<5,>=3.1.4 in /Users/thomasvrancken/Documents/project/ulg/github/info9023-mlops-main/.venv/lib/python3.12/site-packages (from google-auth<3.0dev,>=2.26.1->google-cloud-storage) (4.9)\n",
      "Requirement already satisfied: charset-normalizer<4,>=2 in /Users/thomasvrancken/Documents/project/ulg/github/info9023-mlops-main/.venv/lib/python3.12/site-packages (from requests<3.0.0dev,>=2.18.0->google-cloud-storage) (3.4.1)\n",
      "Requirement already satisfied: idna<4,>=2.5 in /Users/thomasvrancken/Documents/project/ulg/github/info9023-mlops-main/.venv/lib/python3.12/site-packages (from requests<3.0.0dev,>=2.18.0->google-cloud-storage) (3.10)\n",
      "Requirement already satisfied: urllib3<3,>=1.21.1 in /Users/thomasvrancken/Documents/project/ulg/github/info9023-mlops-main/.venv/lib/python3.12/site-packages (from requests<3.0.0dev,>=2.18.0->google-cloud-storage) (2.3.0)\n",
      "Requirement already satisfied: certifi>=2017.4.17 in /Users/thomasvrancken/Documents/project/ulg/github/info9023-mlops-main/.venv/lib/python3.12/site-packages (from requests<3.0.0dev,>=2.18.0->google-cloud-storage) (2024.12.14)\n",
      "Requirement already satisfied: pyasn1<0.7.0,>=0.4.6 in /Users/thomasvrancken/Documents/project/ulg/github/info9023-mlops-main/.venv/lib/python3.12/site-packages (from pyasn1-modules>=0.2.1->google-auth<3.0dev,>=2.26.1->google-cloud-storage) (0.6.1)\n",
      "\n",
      "\u001b[1m[\u001b[0m\u001b[34;49mnotice\u001b[0m\u001b[1;39;49m]\u001b[0m\u001b[39;49m A new release of pip is available: \u001b[0m\u001b[31;49m24.0\u001b[0m\u001b[39;49m -> \u001b[0m\u001b[32;49m25.0.1\u001b[0m\n",
      "\u001b[1m[\u001b[0m\u001b[34;49mnotice\u001b[0m\u001b[1;39;49m]\u001b[0m\u001b[39;49m To update, run: \u001b[0m\u001b[32;49mpip install --upgrade pip\u001b[0m\n"
     ]
    }
   ],
   "source": [
    "!pip install google-cloud-storage"
   ]
  },
  {
   "cell_type": "code",
   "execution_count": 3,
   "metadata": {},
   "outputs": [
    {
     "name": "stdout",
     "output_type": "stream",
     "text": [
      "Your browser has been opened to visit:\n",
      "\n",
      "    https://accounts.google.com/o/oauth2/auth?response_type=code&client_id=764086051850-6qr4p6gpi6hn506pt8ejuq83di341hur.apps.googleusercontent.com&redirect_uri=http%3A%2F%2Flocalhost%3A8085%2F&scope=openid+https%3A%2F%2Fwww.googleapis.com%2Fauth%2Fuserinfo.email+https%3A%2F%2Fwww.googleapis.com%2Fauth%2Fcloud-platform+https%3A%2F%2Fwww.googleapis.com%2Fauth%2Fsqlservice.login&state=VU3NoyTgc24d3ZI475Ar27CojbFkMC&access_type=offline&code_challenge=pjjOaxUFRQfW1bY2f69_9dJwpinS23a1qW1hNnzo628&code_challenge_method=S256\n",
      "\n",
      "\n",
      "Credentials saved to file: [/Users/thomasvrancken/.config/gcloud/application_default_credentials.json]\n",
      "\n",
      "These credentials will be used by any library that requests Application Default Credentials (ADC).\n",
      "\n",
      "Quota project \"example-project-449313\" was added to ADC which can be used by Google client libraries for billing and quota. Note that some services may still bill the project owning the resource.\n"
     ]
    }
   ],
   "source": [
    "!gcloud auth application-default login"
   ]
  },
  {
   "cell_type": "code",
   "execution_count": 4,
   "metadata": {},
   "outputs": [
    {
     "name": "stdout",
     "output_type": "stream",
     "text": [
      "   Credentialed Accounts\n",
      "ACTIVE  ACCOUNT\n",
      "*       t.vrancken@uliege.be\n",
      "\n",
      "To set the active account, run:\n",
      "    $ gcloud config set account `ACCOUNT`\n",
      "\n"
     ]
    }
   ],
   "source": [
    "!gcloud auth list"
   ]
  },
  {
   "cell_type": "code",
   "execution_count": 5,
   "metadata": {},
   "outputs": [
    {
     "name": "stdout",
     "output_type": "stream",
     "text": [
      "File data/housing.csv uploaded to example-bucket-mlsd/other_folder/destination_file.csv\n"
     ]
    }
   ],
   "source": [
    "from google.cloud import storage\n",
    "\n",
    "# Define variables\n",
    "bucket_name = \"example-bucket-mlsd\"  # Replace with your bucket name\n",
    "source_file_path = \"data/housing.csv\"  # Path to your local CSV file\n",
    "destination_blob_name = \"other_folder/destination_file.csv\"  # Path in GCS\n",
    "\n",
    "def upload_to_gcs(bucket_name, source_file_path, destination_blob_name):\n",
    "    \"\"\"Uploads a file to Google Cloud Storage.\"\"\"\n",
    "    # Initialize GCS client (it will use default credentials)\n",
    "    client = storage.Client()\n",
    "\n",
    "    # Get bucket\n",
    "    bucket = client.bucket(bucket_name)\n",
    "\n",
    "    # Create a blob (GCS object) and upload the file\n",
    "    blob = bucket.blob(destination_blob_name)\n",
    "    blob.upload_from_filename(source_file_path)\n",
    "\n",
    "    print(f\"File {source_file_path} uploaded to {bucket_name}/{destination_blob_name}\")\n",
    "\n",
    "# Call the function\n",
    "upload_to_gcs(bucket_name, source_file_path, destination_blob_name)"
   ]
  },
  {
   "cell_type": "code",
   "execution_count": 6,
   "metadata": {},
   "outputs": [
    {
     "name": "stdout",
     "output_type": "stream",
     "text": [
      "File other_folder/destination_file.csv downloaded to data/downloaded_file.csv\n"
     ]
    }
   ],
   "source": [
    "def download_from_gcs(bucket_name, source_blob_name, destination_file_path):\n",
    "    \"\"\"Downloads a file from Google Cloud Storage.\"\"\"\n",
    "    client = storage.Client()\n",
    "    bucket = client.bucket(bucket_name)\n",
    "    blob = bucket.blob(source_blob_name)\n",
    "\n",
    "    blob.download_to_filename(destination_file_path)\n",
    "\n",
    "    print(f\"File {source_blob_name} downloaded to {destination_file_path}\")\n",
    "\n",
    "# Define variables\n",
    "bucket_name = \"example-bucket-mlsd\"  # Replace with your bucket name\n",
    "source_blob_name = \"other_folder/destination_file.csv\"  # Path in GCS\n",
    "destination_file_path = \"data/downloaded_file.csv\"  # Local path to save the file\n",
    "\n",
    "# Call the function\n",
    "download_from_gcs(bucket_name, source_blob_name, destination_file_path)"
   ]
  },
  {
   "cell_type": "code",
   "execution_count": 8,
   "metadata": {},
   "outputs": [],
   "source": [
    "!export GOOGLE_APPLICATION_CREDENTIALS=\"/Users/thomasvrancken/Documents/project/ulg/github/info9023-mlops-main/demos/04_gcs_bq/secrets/example-project-449313-da2a19439135.json\""
   ]
  },
  {
   "cell_type": "code",
   "execution_count": 9,
   "metadata": {},
   "outputs": [],
   "source": [
    "client = storage.Client.from_service_account_json('/Users/thomasvrancken/Documents/project/ulg/github/info9023-mlops-main/demos/04_gcs_bq/secrets/example-project-449313-da2a19439135.json')"
   ]
  },
  {
   "cell_type": "code",
   "execution_count": 10,
   "metadata": {},
   "outputs": [
    {
     "name": "stdout",
     "output_type": "stream",
     "text": [
      "Requirement already satisfied: google-cloud-bigquery in /Users/thomasvrancken/Documents/project/ulg/github/info9023-mlops-main/.venv/lib/python3.12/site-packages (3.29.0)\n",
      "Requirement already satisfied: pandas in /Users/thomasvrancken/Documents/project/ulg/github/info9023-mlops-main/.venv/lib/python3.12/site-packages (2.2.3)\n",
      "Requirement already satisfied: google-api-core<3.0.0dev,>=2.11.1 in /Users/thomasvrancken/Documents/project/ulg/github/info9023-mlops-main/.venv/lib/python3.12/site-packages (from google-api-core[grpc]<3.0.0dev,>=2.11.1->google-cloud-bigquery) (2.24.1)\n",
      "Requirement already satisfied: google-auth<3.0.0dev,>=2.14.1 in /Users/thomasvrancken/Documents/project/ulg/github/info9023-mlops-main/.venv/lib/python3.12/site-packages (from google-cloud-bigquery) (2.38.0)\n",
      "Requirement already satisfied: google-cloud-core<3.0.0dev,>=2.4.1 in /Users/thomasvrancken/Documents/project/ulg/github/info9023-mlops-main/.venv/lib/python3.12/site-packages (from google-cloud-bigquery) (2.4.1)\n",
      "Requirement already satisfied: google-resumable-media<3.0dev,>=2.0.0 in /Users/thomasvrancken/Documents/project/ulg/github/info9023-mlops-main/.venv/lib/python3.12/site-packages (from google-cloud-bigquery) (2.7.2)\n",
      "Requirement already satisfied: packaging>=20.0.0 in /Users/thomasvrancken/Documents/project/ulg/github/info9023-mlops-main/.venv/lib/python3.12/site-packages (from google-cloud-bigquery) (24.2)\n",
      "Requirement already satisfied: python-dateutil<3.0dev,>=2.7.3 in /Users/thomasvrancken/Documents/project/ulg/github/info9023-mlops-main/.venv/lib/python3.12/site-packages (from google-cloud-bigquery) (2.9.0.post0)\n",
      "Requirement already satisfied: requests<3.0.0dev,>=2.21.0 in /Users/thomasvrancken/Documents/project/ulg/github/info9023-mlops-main/.venv/lib/python3.12/site-packages (from google-cloud-bigquery) (2.32.3)\n",
      "Requirement already satisfied: numpy>=1.26.0 in /Users/thomasvrancken/Documents/project/ulg/github/info9023-mlops-main/.venv/lib/python3.12/site-packages (from pandas) (2.2.2)\n",
      "Requirement already satisfied: pytz>=2020.1 in /Users/thomasvrancken/Documents/project/ulg/github/info9023-mlops-main/.venv/lib/python3.12/site-packages (from pandas) (2024.2)\n",
      "Requirement already satisfied: tzdata>=2022.7 in /Users/thomasvrancken/Documents/project/ulg/github/info9023-mlops-main/.venv/lib/python3.12/site-packages (from pandas) (2025.1)\n",
      "Requirement already satisfied: googleapis-common-protos<2.0.dev0,>=1.56.2 in /Users/thomasvrancken/Documents/project/ulg/github/info9023-mlops-main/.venv/lib/python3.12/site-packages (from google-api-core<3.0.0dev,>=2.11.1->google-api-core[grpc]<3.0.0dev,>=2.11.1->google-cloud-bigquery) (1.66.0)\n",
      "Requirement already satisfied: protobuf!=3.20.0,!=3.20.1,!=4.21.0,!=4.21.1,!=4.21.2,!=4.21.3,!=4.21.4,!=4.21.5,<6.0.0.dev0,>=3.19.5 in /Users/thomasvrancken/Documents/project/ulg/github/info9023-mlops-main/.venv/lib/python3.12/site-packages (from google-api-core<3.0.0dev,>=2.11.1->google-api-core[grpc]<3.0.0dev,>=2.11.1->google-cloud-bigquery) (5.29.3)\n",
      "Requirement already satisfied: proto-plus<2.0.0dev,>=1.22.3 in /Users/thomasvrancken/Documents/project/ulg/github/info9023-mlops-main/.venv/lib/python3.12/site-packages (from google-api-core<3.0.0dev,>=2.11.1->google-api-core[grpc]<3.0.0dev,>=2.11.1->google-cloud-bigquery) (1.26.0)\n",
      "Requirement already satisfied: grpcio<2.0dev,>=1.33.2 in /Users/thomasvrancken/Documents/project/ulg/github/info9023-mlops-main/.venv/lib/python3.12/site-packages (from google-api-core[grpc]<3.0.0dev,>=2.11.1->google-cloud-bigquery) (1.70.0)\n",
      "Requirement already satisfied: grpcio-status<2.0.dev0,>=1.33.2 in /Users/thomasvrancken/Documents/project/ulg/github/info9023-mlops-main/.venv/lib/python3.12/site-packages (from google-api-core[grpc]<3.0.0dev,>=2.11.1->google-cloud-bigquery) (1.70.0)\n",
      "Requirement already satisfied: cachetools<6.0,>=2.0.0 in /Users/thomasvrancken/Documents/project/ulg/github/info9023-mlops-main/.venv/lib/python3.12/site-packages (from google-auth<3.0.0dev,>=2.14.1->google-cloud-bigquery) (5.5.1)\n",
      "Requirement already satisfied: pyasn1-modules>=0.2.1 in /Users/thomasvrancken/Documents/project/ulg/github/info9023-mlops-main/.venv/lib/python3.12/site-packages (from google-auth<3.0.0dev,>=2.14.1->google-cloud-bigquery) (0.4.1)\n",
      "Requirement already satisfied: rsa<5,>=3.1.4 in /Users/thomasvrancken/Documents/project/ulg/github/info9023-mlops-main/.venv/lib/python3.12/site-packages (from google-auth<3.0.0dev,>=2.14.1->google-cloud-bigquery) (4.9)\n",
      "Requirement already satisfied: google-crc32c<2.0dev,>=1.0 in /Users/thomasvrancken/Documents/project/ulg/github/info9023-mlops-main/.venv/lib/python3.12/site-packages (from google-resumable-media<3.0dev,>=2.0.0->google-cloud-bigquery) (1.6.0)\n",
      "Requirement already satisfied: six>=1.5 in /Users/thomasvrancken/Documents/project/ulg/github/info9023-mlops-main/.venv/lib/python3.12/site-packages (from python-dateutil<3.0dev,>=2.7.3->google-cloud-bigquery) (1.17.0)\n",
      "Requirement already satisfied: charset-normalizer<4,>=2 in /Users/thomasvrancken/Documents/project/ulg/github/info9023-mlops-main/.venv/lib/python3.12/site-packages (from requests<3.0.0dev,>=2.21.0->google-cloud-bigquery) (3.4.1)\n",
      "Requirement already satisfied: idna<4,>=2.5 in /Users/thomasvrancken/Documents/project/ulg/github/info9023-mlops-main/.venv/lib/python3.12/site-packages (from requests<3.0.0dev,>=2.21.0->google-cloud-bigquery) (3.10)\n",
      "Requirement already satisfied: urllib3<3,>=1.21.1 in /Users/thomasvrancken/Documents/project/ulg/github/info9023-mlops-main/.venv/lib/python3.12/site-packages (from requests<3.0.0dev,>=2.21.0->google-cloud-bigquery) (2.3.0)\n",
      "Requirement already satisfied: certifi>=2017.4.17 in /Users/thomasvrancken/Documents/project/ulg/github/info9023-mlops-main/.venv/lib/python3.12/site-packages (from requests<3.0.0dev,>=2.21.0->google-cloud-bigquery) (2024.12.14)\n",
      "Requirement already satisfied: pyasn1<0.7.0,>=0.4.6 in /Users/thomasvrancken/Documents/project/ulg/github/info9023-mlops-main/.venv/lib/python3.12/site-packages (from pyasn1-modules>=0.2.1->google-auth<3.0.0dev,>=2.14.1->google-cloud-bigquery) (0.6.1)\n",
      "\n",
      "\u001b[1m[\u001b[0m\u001b[34;49mnotice\u001b[0m\u001b[1;39;49m]\u001b[0m\u001b[39;49m A new release of pip is available: \u001b[0m\u001b[31;49m24.0\u001b[0m\u001b[39;49m -> \u001b[0m\u001b[32;49m25.0.1\u001b[0m\n",
      "\u001b[1m[\u001b[0m\u001b[34;49mnotice\u001b[0m\u001b[1;39;49m]\u001b[0m\u001b[39;49m To update, run: \u001b[0m\u001b[32;49mpip install --upgrade pip\u001b[0m\n"
     ]
    }
   ],
   "source": [
    "!pip install google-cloud-bigquery pandas"
   ]
  },
  {
   "cell_type": "code",
   "execution_count": 11,
   "metadata": {},
   "outputs": [
    {
     "name": "stderr",
     "output_type": "stream",
     "text": [
      "/Users/thomasvrancken/Documents/project/ulg/github/info9023-mlops-main/.venv/lib/python3.12/site-packages/google/cloud/bigquery/table.py:1820: UserWarning: BigQuery Storage module not found, fetch data with the REST endpoint instead.\n",
      "  warnings.warn(\n"
     ]
    },
    {
     "name": "stdout",
     "output_type": "stream",
     "text": [
      "  ocean_proximity\n",
      "0      NEAR OCEAN\n",
      "1       <1H OCEAN\n",
      "2          INLAND\n",
      "3          ISLAND\n",
      "4        NEAR BAY\n"
     ]
    }
   ],
   "source": [
    "from google.cloud import bigquery\n",
    "import pandas as pd\n",
    "\n",
    "# Initialize BigQuery client\n",
    "client = bigquery.Client()\n",
    "\n",
    "table_path = f\"example-project-449313.example_dataset_mlsd.example_table_housing_2\"\n",
    "\n",
    "# Define SQL query (Example: Check distinct values for \"ocean_proximity\")\n",
    "query = f\"\"\"\n",
    "SELECT DISTINCT(ocean_proximity) FROM `{table_path}`\n",
    "\"\"\"\n",
    "\n",
    "# Execute query and convert result to a DataFrame\n",
    "query_job = client.query(query)\n",
    "df = query_job.to_dataframe()\n",
    "\n",
    "# Display result\n",
    "print(df)"
   ]
  },
  {
   "cell_type": "code",
   "execution_count": 15,
   "metadata": {},
   "outputs": [
    {
     "name": "stderr",
     "output_type": "stream",
     "text": [
      "/Users/thomasvrancken/Documents/project/ulg/github/info9023-mlops-main/.venv/lib/python3.12/site-packages/google/cloud/bigquery/table.py:1820: UserWarning: BigQuery Storage module not found, fetch data with the REST endpoint instead.\n",
      "  warnings.warn(\n"
     ]
    },
    {
     "name": "stdout",
     "output_type": "stream",
     "text": [
      "   avg_median_house_value\n",
      "0           124805.392001\n"
     ]
    }
   ],
   "source": [
    "# Define SQL query \n",
    "query = f\"\"\"\n",
    "SELECT AVG(median_house_value) AS avg_median_house_value\n",
    "FROM `{table_path}`\n",
    "WHERE ocean_proximity=\"INLAND\"\n",
    "\"\"\"\n",
    "\n",
    "# Execute query and convert result to a DataFrame\n",
    "query_job = client.query(query)\n",
    "df = query_job.to_dataframe()\n",
    "\n",
    "# Display result\n",
    "print(df)"
   ]
  }
 ],
 "metadata": {
  "kernelspec": {
   "display_name": "mlsd-2025",
   "language": "python",
   "name": "mlsd-2025"
  },
  "language_info": {
   "codemirror_mode": {
    "name": "ipython",
    "version": 3
   },
   "file_extension": ".py",
   "mimetype": "text/x-python",
   "name": "python",
   "nbconvert_exporter": "python",
   "pygments_lexer": "ipython3",
   "version": "3.12.2"
  }
 },
 "nbformat": 4,
 "nbformat_minor": 2
}
