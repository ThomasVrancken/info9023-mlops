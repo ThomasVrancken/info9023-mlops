{
 "cells": [
  {
   "cell_type": "code",
   "execution_count": 7,
   "metadata": {},
   "outputs": [
    {
     "name": "stdout",
     "output_type": "stream",
     "text": [
      "File ../data/housing.csv uploaded to housing.csv.\n",
      "File ../data/iris.csv uploaded to iris.csv.\n",
      "File ../data/all_stocks_5yr.csv uploaded to all_stocks_5yr.csv.\n",
      "File ../data/winequality-red.csv uploaded to winequality-red.csv.\n"
     ]
    }
   ],
   "source": [
    "from google.cloud import storage\n",
    "\n",
    "def upload_blob(service_account_path, bucket_name, source_file_path, destination_blob_name):\n",
    "    \"\"\"Uploads a file to the specified bucket.\"\"\"\n",
    "    storage_client = storage.Client.from_service_account_json(service_account_path)\n",
    "    bucket = storage_client.bucket(bucket_name)\n",
    "    blob = bucket.blob(destination_blob_name)\n",
    "\n",
    "    blob.upload_from_filename(source_file_path)\n",
    "\n",
    "    print(f\"File {source_file_path} uploaded to {destination_blob_name}.\")\n",
    "\n",
    "# Set variables\n",
    "service_account_path = '{your_svc_path}'\n",
    "bucket_name = 'bucket-lab9'\n",
    "source_file_paths = ['../data/housing.csv', '../data/iris.csv', '../data/all_stocks_5yr.csv', '../data/winequality-red.csv']\n",
    "destination_blob_names = ['housing.csv', 'iris.csv', 'all_stocks_5yr.csv', 'winequality-red.csv']\n",
    "\n",
    "# Example usage\n",
    "for i in range(len(source_file_paths)):\n",
    "    upload_blob(service_account_path, bucket_name, source_file_paths[i], destination_blob_names[i])"
   ]
  }
 ],
 "metadata": {
  "kernelspec": {
   "display_name": ".venv",
   "language": "python",
   "name": "python3"
  },
  "language_info": {
   "codemirror_mode": {
    "name": "ipython",
    "version": 3
   },
   "file_extension": ".py",
   "mimetype": "text/x-python",
   "name": "python",
   "nbconvert_exporter": "python",
   "pygments_lexer": "ipython3",
   "version": "3.9.6"
  }
 },
 "nbformat": 4,
 "nbformat_minor": 2
}
